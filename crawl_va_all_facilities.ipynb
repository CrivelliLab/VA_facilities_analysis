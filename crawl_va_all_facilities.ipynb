{
 "cells": [
  {
   "cell_type": "code",
   "execution_count": 2,
   "metadata": {},
   "outputs": [],
   "source": [
    "from bs4 import BeautifulSoup\n",
    "import requests\n",
    "import pandas as pd"
   ]
  },
  {
   "cell_type": "code",
   "execution_count": 2,
   "metadata": {},
   "outputs": [],
   "source": [
    "URL = 'https://www.va.gov/directory/guide/allstate.asp'\n",
    "page = requests.get(URL)\n",
    "soup = BeautifulSoup(page.content, \"html.parser\")"
   ]
  },
  {
   "cell_type": "code",
   "execution_count": 6,
   "metadata": {},
   "outputs": [
    {
     "data": {
      "text/plain": [
       "<Response [403]>"
      ]
     },
     "execution_count": 6,
     "metadata": {},
     "output_type": "execute_result"
    }
   ],
   "source": [
    "URL = 'https://crimegrade.org/safest-places-in-colorado-springs-co-metro/'\n",
    "page = requests.get(URL)\n",
    "page\n",
    "# soup = BeautifulSoup(page.content, \"html.parser\")\n",
    "# soup"
   ]
  },
  {
   "cell_type": "code",
   "execution_count": 110,
   "metadata": {},
   "outputs": [],
   "source": [
    "# 1. get all states\n",
    "def getStates():\n",
    "    states = []\n",
    "    URL = 'https://www.va.gov/directory/guide/allstate.asp'\n",
    "    page = requests.get(URL)\n",
    "    soup = BeautifulSoup(page.content, \"html.parser\")\n",
    "\n",
    "    for t in soup.find_all(\"a\", {\"class\": \"reglink\"}):\n",
    "        states.append(t['href'][-2:])\n",
    "    return states"
   ]
  },
  {
   "cell_type": "code",
   "execution_count": 121,
   "metadata": {},
   "outputs": [],
   "source": [
    "# 2. get all address and phone\n",
    "def getInfo(state):\n",
    "    # get table from website\n",
    "    URL = 'https://www.va.gov/directory/guide/fac_list_by_state.cfm?State={}'.format(state)\n",
    "    page = requests.get(URL)\n",
    "    soup = BeautifulSoup(page.content, \"html.parser\")\n",
    "    table = soup.find('table')\n",
    "    \n",
    "    # remove theads\n",
    "    for div in table.find_all(\"thead\"):\n",
    "        div.decompose()\n",
    "\n",
    "    # convert to df\n",
    "    df = pd.read_html(str(table))[0]\n",
    "    df.columns = ['Station ID', 'Facility', 'Address', 'Phone', 'empty']\n",
    "    df.drop('empty', axis=1, inplace=True)\n",
    "    df.dropna(subset = [\"Station ID\"], inplace=True)\n",
    "    df[\"State\"] = state\n",
    "    return df\n"
   ]
  },
  {
   "cell_type": "code",
   "execution_count": 122,
   "metadata": {},
   "outputs": [],
   "source": [
    "states_list = getStates()\n",
    "df_list = []\n",
    "\n",
    "for state in states_list:\n",
    "    df_list.append(getInfo(state))\n",
    "    \n",
    "df = pd.concat(df_list)\n",
    "df.to_csv('VA_facilities.csv')"
   ]
  }
 ],
 "metadata": {
  "kernelspec": {
   "display_name": "MyEnv",
   "language": "python",
   "name": "myenv"
  },
  "language_info": {
   "codemirror_mode": {
    "name": "ipython",
    "version": 3
   },
   "file_extension": ".py",
   "mimetype": "text/x-python",
   "name": "python",
   "nbconvert_exporter": "python",
   "pygments_lexer": "ipython3",
   "version": "3.8.2"
  }
 },
 "nbformat": 4,
 "nbformat_minor": 4
}
